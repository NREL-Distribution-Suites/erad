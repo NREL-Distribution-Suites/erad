{
 "cells": [
  {
   "cell_type": "markdown",
   "id": "4e8b06f6",
   "metadata": {},
   "source": [
    "### Let's get the styling out of the way."
   ]
  },
  {
   "cell_type": "code",
   "execution_count": null,
   "id": "04f12662",
   "metadata": {},
   "outputs": [],
   "source": [
    "from IPython.display import display, HTML\n",
    "display(HTML(\"<style>.container { width:80% !important; }</style>\"))"
   ]
  },
  {
   "cell_type": "markdown",
   "id": "8e37aea3",
   "metadata": {},
   "source": [
    "### We are going to model point earthquake and update the survival probability into the graph database.\n",
    "Let's first create neo4j instance and inject point earthquake scenario."
   ]
  },
  {
   "cell_type": "code",
   "execution_count": null,
   "id": "4a709aee",
   "metadata": {},
   "outputs": [],
   "source": [
    "from erad.db import neo4j_\n",
    "neo4j_instance = neo4j_.Neo4J()"
   ]
  },
  {
   "cell_type": "code",
   "execution_count": null,
   "id": "4eb5a2ca",
   "metadata": {},
   "outputs": [],
   "source": [
    "import datetime\n",
    "import shapely\n",
    "\n",
    "from erad.scenarios import earthquake_scenario\n",
    "from erad.db import inject_scenario\n",
    "from erad.db import scenario_model\n",
    "\n",
    "\n",
    "scenario_input = scenario_model.PointEarthquake(\n",
    "        longitude=-121.72125955960196, \n",
    "        latitude=37.92770173811863,\n",
    "        probability_model={},\n",
    "        timestamp=datetime.datetime(2022, 1, 1, 0, 0, 0),\n",
    "        magnitude=8.0,\n",
    "        depth=30.0,\n",
    "    )\n",
    "inject_scenario.inject_point_earthquake(\n",
    "    scenario_input, neo4j_instance.driver\n",
    ")"
   ]
  },
  {
   "cell_type": "markdown",
   "id": "166df39b",
   "metadata": {},
   "source": [
    "### Let's visualize the survival probability and see which AC line segment survive and which did not."
   ]
  },
  {
   "cell_type": "code",
   "execution_count": null,
   "id": "1e34c0a3",
   "metadata": {},
   "outputs": [],
   "source": [
    "cypher_query = \"\"\"\n",
    "                    MATCH (b1:Bus)-[r:CONNECTS_TO]-(b2:Bus)\n",
    "                    WHERE r.ampacity IS NOT NULL\n",
    "                    RETURN r.longitude AS longitude, r.latitude AS latitude , r.name, r.survival_probability AS survival_probability, r.survive AS survive\n",
    "                \"\"\"\n",
    "with neo4j_instance.driver.session() as session:\n",
    "    result = session.read_transaction(\n",
    "        lambda tx: tx.run(cypher_query).data()\n",
    "    )"
   ]
  },
  {
   "cell_type": "code",
   "execution_count": null,
   "id": "9a486b1f",
   "metadata": {},
   "outputs": [],
   "source": [
    "import pandas as pd\n",
    "import plotly.express as px\n",
    "\n",
    "df = pd.DataFrame(result)\n",
    "fig = px.scatter_mapbox(df, lat='latitude', lon='longitude', color='survival_probability',\n",
    "                        center=dict(lat=37.892652, lon=-121.723465), zoom=16,\n",
    "                        mapbox_style=\"carto-darkmatter\")\n",
    "fig.show()\n",
    "df['survive_str'] = [str(el) for el in list(df['survive'])]\n",
    "fig = px.scatter_mapbox(df, lat=\"latitude\", lon=\"longitude\", hover_name=\"r.name\",\n",
    "                        color=\"survive_str\", zoom=16, center=dict(lat=37.892652, lon=-121.723465), mapbox_style=\"carto-darkmatter\")\n",
    "fig.show()"
   ]
  },
  {
   "cell_type": "markdown",
   "id": "c5f947ff",
   "metadata": {},
   "source": [
    "### Let's see which customers are getting power and which are not"
   ]
  },
  {
   "cell_type": "code",
   "execution_count": null,
   "id": "9fad0b76",
   "metadata": {},
   "outputs": [],
   "source": [
    "from erad.metrics import metric\n",
    "metric.is_customer_getting_power(\n",
    "        neo4j_instance.driver, \"./is_customer_connected.csv\"\n",
    "    )"
   ]
  },
  {
   "cell_type": "code",
   "execution_count": null,
   "id": "161d8fdb",
   "metadata": {},
   "outputs": [],
   "source": [
    "metric_df = pd.read_csv('./is_customer_connected.csv')\n",
    "cypher_query = \"\"\"\n",
    "                    MATCH (lo:Load)\n",
    "                    RETURN lo.longitude AS longitude, lo.latitude AS latitude , lo.name\n",
    "                \"\"\"\n",
    "with neo4j_instance.driver.session() as session:\n",
    "    result = session.read_transaction(\n",
    "        lambda tx: tx.run(cypher_query).data()\n",
    "    )\n",
    "load_df = pd.DataFrame(result)\n",
    "df = metric_df.merge(load_df, left_on=\"load_name\", right_on=\"lo.name\")\n",
    "df['metric_str'] = [str(el) for el in list(df['metric'])]\n",
    "fig = px.scatter_mapbox(df, lat=\"latitude\", lon=\"longitude\", hover_name=\"lo.name\",\n",
    "                        color=\"metric_str\", zoom=16, center=dict(lat=37.892652, lon=-121.723465), mapbox_style=\"carto-darkmatter\")\n",
    "fig.show()"
   ]
  },
  {
   "cell_type": "markdown",
   "id": "fb3db105",
   "metadata": {},
   "source": [
    "### Energy resilience metric for customers"
   ]
  },
  {
   "cell_type": "code",
   "execution_count": null,
   "id": "33d3f53e",
   "metadata": {},
   "outputs": [],
   "source": [
    "metric.energy_resilience_by_customer(\n",
    "        neo4j_instance.driver, \"./energy_resilience.csv\"\n",
    "    )"
   ]
  },
  {
   "cell_type": "code",
   "execution_count": null,
   "id": "ab7be836",
   "metadata": {},
   "outputs": [],
   "source": [
    "metric_df = pd.read_csv('./energy_resilience.csv')\n",
    "metric_df = metric_df[metric_df['critical_service']=='Grocery']\n",
    "df = metric_df.merge(load_df, left_on=\"load_name\", right_on=\"lo.name\")\n",
    "fig = px.scatter_mapbox(df, lat='latitude', lon='longitude', color='metric',\n",
    "                        center=dict(lat=37.892652, lon=-121.723465), zoom=16,\n",
    "                        mapbox_style=\"carto-darkmatter\")\n",
    "fig.show()"
   ]
  },
  {
   "cell_type": "code",
   "execution_count": null,
   "id": "a116f7bd",
   "metadata": {},
   "outputs": [],
   "source": []
  }
 ],
 "metadata": {
  "kernelspec": {
   "display_name": "Python 3.8.0 ('erad')",
   "language": "python",
   "name": "python3"
  },
  "language_info": {
   "codemirror_mode": {
    "name": "ipython",
    "version": 3
   },
   "file_extension": ".py",
   "mimetype": "text/x-python",
   "name": "python",
   "nbconvert_exporter": "python",
   "pygments_lexer": "ipython3",
   "version": "3.8.0"
  },
  "vscode": {
   "interpreter": {
    "hash": "c789fb37f5a6ebe649467850720c4a3dee8d655b890cf6fc098b63d935b10ad2"
   }
  }
 },
 "nbformat": 4,
 "nbformat_minor": 5
}
