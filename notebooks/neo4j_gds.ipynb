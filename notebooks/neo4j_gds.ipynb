{
 "cells": [
  {
   "cell_type": "markdown",
   "id": "7e50b2b4",
   "metadata": {},
   "source": [
    "## Using Graph Data Science Library of neo4j "
   ]
  },
  {
   "cell_type": "code",
   "execution_count": 2,
   "id": "c9f5ede9",
   "metadata": {},
   "outputs": [
    {
     "data": {
      "text/html": [
       "<style>.container { width:80% !important; }</style>"
      ],
      "text/plain": [
       "<IPython.core.display.HTML object>"
      ]
     },
     "metadata": {},
     "output_type": "display_data"
    }
   ],
   "source": [
    "# Let's make the screen little wide\n",
    "from IPython.display import display, HTML\n",
    "display(HTML(\"<style>.container { width:80% !important; }</style>\"))"
   ]
  },
  {
   "cell_type": "code",
   "execution_count": 3,
   "id": "1bc7ec3e",
   "metadata": {},
   "outputs": [],
   "source": [
    "# Let's connect to the graph database and get the graph\n",
    "from graphdatascience import GraphDataScience\n",
    "import pandas as pd"
   ]
  },
  {
   "cell_type": "code",
   "execution_count": 4,
   "id": "e3461bb6",
   "metadata": {},
   "outputs": [],
   "source": [
    "gds = GraphDataScience(\"bolt://127.0.0.1:7687\", auth=(\"neo4j\", \"erad_db\"))"
   ]
  },
  {
   "cell_type": "code",
   "execution_count": 7,
   "id": "b713c92b",
   "metadata": {},
   "outputs": [
    {
     "data": {
      "text/html": [
       "<div>\n",
       "<style scoped>\n",
       "    .dataframe tbody tr th:only-of-type {\n",
       "        vertical-align: middle;\n",
       "    }\n",
       "\n",
       "    .dataframe tbody tr th {\n",
       "        vertical-align: top;\n",
       "    }\n",
       "\n",
       "    .dataframe thead th {\n",
       "        text-align: right;\n",
       "    }\n",
       "</style>\n",
       "<table border=\"1\" class=\"dataframe\">\n",
       "  <thead>\n",
       "    <tr style=\"text-align: right;\">\n",
       "      <th></th>\n",
       "      <th>labels</th>\n",
       "      <th>nodeCount</th>\n",
       "    </tr>\n",
       "  </thead>\n",
       "  <tbody>\n",
       "    <tr>\n",
       "      <th>0</th>\n",
       "      <td>[Bus, Substation]</td>\n",
       "      <td>1</td>\n",
       "    </tr>\n",
       "    <tr>\n",
       "      <th>1</th>\n",
       "      <td>[Bus]</td>\n",
       "      <td>15</td>\n",
       "    </tr>\n",
       "    <tr>\n",
       "      <th>2</th>\n",
       "      <td>[Customer]</td>\n",
       "      <td>15</td>\n",
       "    </tr>\n",
       "    <tr>\n",
       "      <th>3</th>\n",
       "      <td>[Solar]</td>\n",
       "      <td>3</td>\n",
       "    </tr>\n",
       "    <tr>\n",
       "      <th>4</th>\n",
       "      <td>[Utility]</td>\n",
       "      <td>1</td>\n",
       "    </tr>\n",
       "    <tr>\n",
       "      <th>5</th>\n",
       "      <td>[EnergyStorage]</td>\n",
       "      <td>2</td>\n",
       "    </tr>\n",
       "    <tr>\n",
       "      <th>6</th>\n",
       "      <td>[Grocery]</td>\n",
       "      <td>3</td>\n",
       "    </tr>\n",
       "    <tr>\n",
       "      <th>7</th>\n",
       "      <td>[Pharmacy]</td>\n",
       "      <td>2</td>\n",
       "    </tr>\n",
       "    <tr>\n",
       "      <th>8</th>\n",
       "      <td>[Shelter]</td>\n",
       "      <td>2</td>\n",
       "    </tr>\n",
       "    <tr>\n",
       "      <th>9</th>\n",
       "      <td>[FireStation]</td>\n",
       "      <td>1</td>\n",
       "    </tr>\n",
       "    <tr>\n",
       "      <th>10</th>\n",
       "      <td>[Hospital]</td>\n",
       "      <td>1</td>\n",
       "    </tr>\n",
       "    <tr>\n",
       "      <th>11</th>\n",
       "      <td>[RescueService]</td>\n",
       "      <td>1</td>\n",
       "    </tr>\n",
       "    <tr>\n",
       "      <th>12</th>\n",
       "      <td>[MunicipalWater]</td>\n",
       "      <td>1</td>\n",
       "    </tr>\n",
       "  </tbody>\n",
       "</table>\n",
       "</div>"
      ],
      "text/plain": [
       "               labels  nodeCount\n",
       "0   [Bus, Substation]          1\n",
       "1               [Bus]         15\n",
       "2          [Customer]         15\n",
       "3             [Solar]          3\n",
       "4           [Utility]          1\n",
       "5     [EnergyStorage]          2\n",
       "6           [Grocery]          3\n",
       "7          [Pharmacy]          2\n",
       "8           [Shelter]          2\n",
       "9       [FireStation]          1\n",
       "10         [Hospital]          1\n",
       "11    [RescueService]          1\n",
       "12   [MunicipalWater]          1"
      ]
     },
     "execution_count": 7,
     "metadata": {},
     "output_type": "execute_result"
    }
   ],
   "source": [
    "# Get all the node labels and count for each node type\n",
    "gds.run_cypher(\"MATCH (n) return labels(n) as labels, count(*) as nodeCount\")"
   ]
  },
  {
   "cell_type": "code",
   "execution_count": 33,
   "id": "3d2f7794",
   "metadata": {},
   "outputs": [],
   "source": [
    "# Get a powersystem graph network\n",
    "power_network, result = gds.graph.project(\"dist_network\", [\"Bus\"], [\"CONNECTS_TO\"])"
   ]
  },
  {
   "cell_type": "code",
   "execution_count": 34,
   "id": "cdfc153f",
   "metadata": {},
   "outputs": [
    {
     "name": "stdout",
     "output_type": "stream",
     "text": [
      "nodeProjection                  {'Bus': {'label': 'Bus', 'properties': {}}}\n",
      "relationshipProjection    {'CONNECTS_TO': {'orientation': 'NATURAL', 'ag...\n",
      "graphName                                                      dist_network\n",
      "nodeCount                                                                16\n",
      "relationshipCount                                                        17\n",
      "projectMillis                                                            20\n",
      "Name: 0, dtype: object\n"
     ]
    }
   ],
   "source": [
    "# Print result\n",
    "print(result)"
   ]
  },
  {
   "cell_type": "code",
   "execution_count": 35,
   "id": "6911caef",
   "metadata": {},
   "outputs": [
    {
     "name": "stdout",
     "output_type": "stream",
     "text": [
      "<graphdatascience.graph.graph_object.Graph object at 0x000001BEEB906A00>\n"
     ]
    }
   ],
   "source": [
    "print(power_network)"
   ]
  },
  {
   "cell_type": "code",
   "execution_count": 36,
   "id": "a6b46c33",
   "metadata": {},
   "outputs": [
    {
     "data": {
      "text/plain": [
       "componentCount                                                           1\n",
       "componentDistribution    {'p99': 16, 'min': 16, 'max': 16, 'mean': 16.0...\n",
       "postProcessingMillis                                                     6\n",
       "preProcessingMillis                                                      0\n",
       "computeMillis                                                            3\n",
       "configuration            {'seedProperty': None, 'consecutiveIds': False...\n",
       "Name: 0, dtype: object"
      ]
     },
     "execution_count": 36,
     "metadata": {},
     "output_type": "execute_result"
    }
   ],
   "source": [
    "wcc_stats = gds.wcc.stats(power_network)\n",
    "wcc_stats"
   ]
  },
  {
   "cell_type": "code",
   "execution_count": 37,
   "id": "1fdd4902",
   "metadata": {},
   "outputs": [
    {
     "data": {
      "text/plain": [
       "{'p99': 16,\n",
       " 'min': 16,\n",
       " 'max': 16,\n",
       " 'mean': 16.0,\n",
       " 'p90': 16,\n",
       " 'p50': 16,\n",
       " 'p999': 16,\n",
       " 'p95': 16,\n",
       " 'p75': 16}"
      ]
     },
     "execution_count": 37,
     "metadata": {},
     "output_type": "execute_result"
    }
   ],
   "source": [
    "wcc_stats['componentDistribution']"
   ]
  },
  {
   "cell_type": "code",
   "execution_count": 38,
   "id": "f37f6453",
   "metadata": {},
   "outputs": [
    {
     "name": "stdout",
     "output_type": "stream",
     "text": [
      "                                  degreeDistribution     graphName database  \\\n",
      "0  {'p99': 3, 'min': 0, 'max': 3, 'mean': 1.0625,...  dist_network    neo4j   \n",
      "\n",
      "  memoryUsage  sizeInBytes  nodeCount  relationshipCount  \\\n",
      "0     303 KiB       310624         16                 17   \n",
      "\n",
      "                                       configuration   density  \\\n",
      "0  {'relationshipProjection': {'CONNECTS_TO': {'o...  0.070833   \n",
      "\n",
      "                          creationTime                     modificationTime  \\\n",
      "0  2022-08-09T16:35:25.978751700-06:00  2022-08-09T16:35:25.998753300-06:00   \n",
      "\n",
      "                                              schema  \n",
      "0  {'relationships': {'CONNECTS_TO': {}}, 'nodes'...  \n"
     ]
    }
   ],
   "source": [
    "print(gds.graph.list())"
   ]
  },
  {
   "cell_type": "code",
   "execution_count": 5,
   "id": "9581321b",
   "metadata": {},
   "outputs": [
    {
     "ename": "NameError",
     "evalue": "name 'power_network' is not defined",
     "output_type": "error",
     "traceback": [
      "\u001b[1;31m---------------------------------------------------------------------------\u001b[0m",
      "\u001b[1;31mNameError\u001b[0m                                 Traceback (most recent call last)",
      "Input \u001b[1;32mIn [5]\u001b[0m, in \u001b[0;36m<cell line: 1>\u001b[1;34m()\u001b[0m\n\u001b[1;32m----> 1\u001b[0m gds\u001b[38;5;241m.\u001b[39mgraph\u001b[38;5;241m.\u001b[39mdrop(\u001b[43mpower_network\u001b[49m)\n",
      "\u001b[1;31mNameError\u001b[0m: name 'power_network' is not defined"
     ]
    }
   ],
   "source": [
    "gds.graph.drop(power_network)"
   ]
  },
  {
   "cell_type": "code",
   "execution_count": 11,
   "id": "e9094c02",
   "metadata": {},
   "outputs": [],
   "source": [
    "result = gds.run_cypher(\"MATCH p=(b1:Bus)-[:CONNECTS_TO]-(b2:BUS) RETURN p\")"
   ]
  },
  {
   "cell_type": "code",
   "execution_count": 12,
   "id": "de58fc8a",
   "metadata": {},
   "outputs": [
    {
     "name": "stdout",
     "output_type": "stream",
     "text": [
      "Empty DataFrame\n",
      "Columns: [p]\n",
      "Index: []\n"
     ]
    }
   ],
   "source": [
    "print(result)"
   ]
  }
 ],
 "metadata": {
  "kernelspec": {
   "display_name": "Python 3 (ipykernel)",
   "language": "python",
   "name": "python3"
  },
  "language_info": {
   "codemirror_mode": {
    "name": "ipython",
    "version": 3
   },
   "file_extension": ".py",
   "mimetype": "text/x-python",
   "name": "python",
   "nbconvert_exporter": "python",
   "pygments_lexer": "ipython3",
   "version": "3.8.0"
  }
 },
 "nbformat": 4,
 "nbformat_minor": 5
}
