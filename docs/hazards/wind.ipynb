{
 "cells": [
  {
   "cell_type": "markdown",
   "metadata": {},
   "source": [
    "## Wind Modeling \n",
    "\n",
    "The wind model in erad is built using typical hurricane data. The model can be imported using the command below\n",
    "\n",
    "{cite}`williamstsunami2020`\n",
    "{cite}`bennettextending2021`"
   ]
  },
  {
   "cell_type": "code",
   "execution_count": 1,
   "metadata": {},
   "outputs": [],
   "source": [
    "from erad.models.hazard import WindModel"
   ]
  },
  {
   "cell_type": "markdown",
   "metadata": {},
   "source": [
    "An instance of `WindModel` requires the following pieces of information,\n",
    "- **timestamp**: The timestamp for the hurricane event\n",
    "- **center**: Center of the hurricane in lat / long format\n",
    "- **max_wind_speed**: Maximum wind speed\n",
    "- **air_pressure**: Air pressuse of the hurricame\n",
    "- **radius_of_max_wind**: Radius of the maximum wind speed\n",
    "- **radius_of_closest_isobar**: Radius of closest isobar"
   ]
  },
  {
   "cell_type": "markdown",
   "metadata": {},
   "source": []
  },
  {
   "cell_type": "code",
   "execution_count": 2,
   "metadata": {},
   "outputs": [
    {
     "data": {
      "text/html": [
       "<pre style=\"white-space:pre;overflow-x:auto;line-height:normal;font-family:Menlo,'DejaVu Sans Mono',consolas,'Courier New',monospace\"><span style=\"color: #800080; text-decoration-color: #800080; font-weight: bold\">WindModel</span><span style=\"font-weight: bold\">(</span>\n",
       "    <span style=\"color: #808000; text-decoration-color: #808000\">name</span>=<span style=\"color: #008000; text-decoration-color: #008000\">'hurricane 1'</span>,\n",
       "    <span style=\"color: #808000; text-decoration-color: #808000\">timestamp</span>=<span style=\"color: #800080; text-decoration-color: #800080; font-weight: bold\">datetime</span><span style=\"color: #800080; text-decoration-color: #800080; font-weight: bold\">.datetime</span><span style=\"font-weight: bold\">(</span><span style=\"color: #008080; text-decoration-color: #008080; font-weight: bold\">2025</span>, <span style=\"color: #008080; text-decoration-color: #008080; font-weight: bold\">5</span>, <span style=\"color: #008080; text-decoration-color: #008080; font-weight: bold\">8</span>, <span style=\"color: #008080; text-decoration-color: #008080; font-weight: bold\">8</span>, <span style=\"color: #008080; text-decoration-color: #008080; font-weight: bold\">52</span>, <span style=\"color: #008080; text-decoration-color: #008080; font-weight: bold\">28</span>, <span style=\"color: #008080; text-decoration-color: #008080; font-weight: bold\">80390</span><span style=\"font-weight: bold\">)</span>,\n",
       "    <span style=\"color: #808000; text-decoration-color: #808000\">center</span>=<span style=\"font-weight: bold\">&lt;</span><span style=\"color: #ff00ff; text-decoration-color: #ff00ff; font-weight: bold\">POINT</span><span style=\"color: #000000; text-decoration-color: #000000\"> </span><span style=\"color: #000000; text-decoration-color: #000000; font-weight: bold\">(</span><span style=\"color: #008080; text-decoration-color: #008080; font-weight: bold\">87</span><span style=\"color: #000000; text-decoration-color: #000000\"> </span><span style=\"color: #008080; text-decoration-color: #008080; font-weight: bold\">20</span><span style=\"color: #000000; text-decoration-color: #000000; font-weight: bold\">)</span><span style=\"color: #000000; text-decoration-color: #000000\">&gt;,</span>\n",
       "<span style=\"color: #000000; text-decoration-color: #000000\">    </span><span style=\"color: #808000; text-decoration-color: #808000\">max_wind_speed</span><span style=\"color: #000000; text-decoration-color: #000000\">=&lt;</span><span style=\"color: #800080; text-decoration-color: #800080; font-weight: bold\">Quantity</span><span style=\"color: #000000; text-decoration-color: #000000; font-weight: bold\">(</span><span style=\"color: #008080; text-decoration-color: #008080; font-weight: bold\">20</span><span style=\"color: #000000; text-decoration-color: #000000\">, </span><span style=\"color: #008000; text-decoration-color: #008000\">'mile / hour'</span><span style=\"color: #000000; text-decoration-color: #000000; font-weight: bold\">)</span><span style=\"color: #000000; text-decoration-color: #000000\">&gt;,</span>\n",
       "<span style=\"color: #000000; text-decoration-color: #000000\">    </span><span style=\"color: #808000; text-decoration-color: #808000\">radius_of_max_wind</span><span style=\"color: #000000; text-decoration-color: #000000\">=&lt;</span><span style=\"color: #800080; text-decoration-color: #800080; font-weight: bold\">Quantity</span><span style=\"color: #000000; text-decoration-color: #000000; font-weight: bold\">(</span><span style=\"color: #008080; text-decoration-color: #008080; font-weight: bold\">30</span><span style=\"color: #000000; text-decoration-color: #000000\">, </span><span style=\"color: #008000; text-decoration-color: #008000\">'mile'</span><span style=\"color: #000000; text-decoration-color: #000000; font-weight: bold\">)</span><span style=\"color: #000000; text-decoration-color: #000000\">&gt;,</span>\n",
       "<span style=\"color: #000000; text-decoration-color: #000000\">    </span><span style=\"color: #808000; text-decoration-color: #808000\">radius_of_closest_isobar</span><span style=\"color: #000000; text-decoration-color: #000000\">=&lt;</span><span style=\"color: #800080; text-decoration-color: #800080; font-weight: bold\">Quantity</span><span style=\"color: #000000; text-decoration-color: #000000; font-weight: bold\">(</span><span style=\"color: #008080; text-decoration-color: #008080; font-weight: bold\">100</span><span style=\"color: #000000; text-decoration-color: #000000\">, </span><span style=\"color: #008000; text-decoration-color: #008000\">'mile'</span><span style=\"color: #000000; text-decoration-color: #000000; font-weight: bold\">)</span><span style=\"color: #000000; text-decoration-color: #000000\">&gt;,</span>\n",
       "<span style=\"color: #000000; text-decoration-color: #000000\">    </span><span style=\"color: #808000; text-decoration-color: #808000\">air_pressure</span><span style=\"color: #000000; text-decoration-color: #000000\">=&lt;</span><span style=\"color: #800080; text-decoration-color: #800080; font-weight: bold\">Quantity</span><span style=\"color: #000000; text-decoration-color: #000000; font-weight: bold\">(</span><span style=\"color: #008080; text-decoration-color: #008080; font-weight: bold\">10000</span><span style=\"color: #000000; text-decoration-color: #000000\">, </span><span style=\"color: #008000; text-decoration-color: #008000\">'hectopascal'</span><span style=\"color: #000000; text-decoration-color: #000000; font-weight: bold\">)</span><span style=\"font-weight: bold\">&gt;</span>\n",
       "<span style=\"font-weight: bold\">)</span>\n",
       "</pre>\n"
      ],
      "text/plain": [
       "\u001b[1;35mWindModel\u001b[0m\u001b[1m(\u001b[0m\n",
       "    \u001b[33mname\u001b[0m=\u001b[32m'hurricane 1'\u001b[0m,\n",
       "    \u001b[33mtimestamp\u001b[0m=\u001b[1;35mdatetime\u001b[0m\u001b[1;35m.datetime\u001b[0m\u001b[1m(\u001b[0m\u001b[1;36m2025\u001b[0m, \u001b[1;36m5\u001b[0m, \u001b[1;36m8\u001b[0m, \u001b[1;36m8\u001b[0m, \u001b[1;36m52\u001b[0m, \u001b[1;36m28\u001b[0m, \u001b[1;36m80390\u001b[0m\u001b[1m)\u001b[0m,\n",
       "    \u001b[33mcenter\u001b[0m=\u001b[1m<\u001b[0m\u001b[1;95mPOINT\u001b[0m\u001b[39m \u001b[0m\u001b[1;39m(\u001b[0m\u001b[1;36m87\u001b[0m\u001b[39m \u001b[0m\u001b[1;36m20\u001b[0m\u001b[1;39m)\u001b[0m\u001b[39m>,\u001b[0m\n",
       "\u001b[39m    \u001b[0m\u001b[33mmax_wind_speed\u001b[0m\u001b[39m=<\u001b[0m\u001b[1;35mQuantity\u001b[0m\u001b[1;39m(\u001b[0m\u001b[1;36m20\u001b[0m\u001b[39m, \u001b[0m\u001b[32m'mile / hour'\u001b[0m\u001b[1;39m)\u001b[0m\u001b[39m>,\u001b[0m\n",
       "\u001b[39m    \u001b[0m\u001b[33mradius_of_max_wind\u001b[0m\u001b[39m=<\u001b[0m\u001b[1;35mQuantity\u001b[0m\u001b[1;39m(\u001b[0m\u001b[1;36m30\u001b[0m\u001b[39m, \u001b[0m\u001b[32m'mile'\u001b[0m\u001b[1;39m)\u001b[0m\u001b[39m>,\u001b[0m\n",
       "\u001b[39m    \u001b[0m\u001b[33mradius_of_closest_isobar\u001b[0m\u001b[39m=<\u001b[0m\u001b[1;35mQuantity\u001b[0m\u001b[1;39m(\u001b[0m\u001b[1;36m100\u001b[0m\u001b[39m, \u001b[0m\u001b[32m'mile'\u001b[0m\u001b[1;39m)\u001b[0m\u001b[39m>,\u001b[0m\n",
       "\u001b[39m    \u001b[0m\u001b[33mair_pressure\u001b[0m\u001b[39m=<\u001b[0m\u001b[1;35mQuantity\u001b[0m\u001b[1;39m(\u001b[0m\u001b[1;36m10000\u001b[0m\u001b[39m, \u001b[0m\u001b[32m'hectopascal'\u001b[0m\u001b[1;39m)\u001b[0m\u001b[1m>\u001b[0m\n",
       "\u001b[1m)\u001b[0m\n"
      ]
     },
     "metadata": {},
     "output_type": "display_data"
    }
   ],
   "source": [
    "from datetime import datetime\n",
    "\n",
    "from gdm.quantities import Distance\n",
    "from shapely.geometry import Point\n",
    "\n",
    "from erad.quantities import Speed, Pressure\n",
    "\n",
    "hurricane = WindModel(\n",
    "    name = 'hurricane 1',\n",
    "    timestamp=datetime.now(),\n",
    "    center=Point(87, 20),\n",
    "    max_wind_speed=Speed(20, \"miles/hour\"),\n",
    "    air_pressure=Pressure(10000, \"hPa\"),\n",
    "    radius_of_max_wind=Distance(30, \"miles\"),\n",
    "    radius_of_closest_isobar=Distance(100, \"miles\"),\n",
    ")\n",
    "hurricane.pprint()"
   ]
  },
  {
   "cell_type": "markdown",
   "metadata": {},
   "source": [
    "An example of the `WindModel` can be built using the `example()` methods for testing purposes."
   ]
  },
  {
   "cell_type": "code",
   "execution_count": 3,
   "metadata": {},
   "outputs": [
    {
     "data": {
      "text/html": [
       "<pre style=\"white-space:pre;overflow-x:auto;line-height:normal;font-family:Menlo,'DejaVu Sans Mono',consolas,'Courier New',monospace\"><span style=\"color: #800080; text-decoration-color: #800080; font-weight: bold\">WindModel</span><span style=\"font-weight: bold\">(</span>\n",
       "    <span style=\"color: #808000; text-decoration-color: #808000\">name</span>=<span style=\"color: #008000; text-decoration-color: #008000\">'hurricane 1'</span>,\n",
       "    <span style=\"color: #808000; text-decoration-color: #808000\">timestamp</span>=<span style=\"color: #800080; text-decoration-color: #800080; font-weight: bold\">datetime</span><span style=\"color: #800080; text-decoration-color: #800080; font-weight: bold\">.datetime</span><span style=\"font-weight: bold\">(</span><span style=\"color: #008080; text-decoration-color: #008080; font-weight: bold\">2025</span>, <span style=\"color: #008080; text-decoration-color: #008080; font-weight: bold\">5</span>, <span style=\"color: #008080; text-decoration-color: #008080; font-weight: bold\">8</span>, <span style=\"color: #008080; text-decoration-color: #008080; font-weight: bold\">8</span>, <span style=\"color: #008080; text-decoration-color: #008080; font-weight: bold\">52</span>, <span style=\"color: #008080; text-decoration-color: #008080; font-weight: bold\">28</span>, <span style=\"color: #008080; text-decoration-color: #008080; font-weight: bold\">357580</span><span style=\"font-weight: bold\">)</span>,\n",
       "    <span style=\"color: #808000; text-decoration-color: #808000\">center</span>=<span style=\"font-weight: bold\">&lt;</span><span style=\"color: #ff00ff; text-decoration-color: #ff00ff; font-weight: bold\">POINT</span><span style=\"color: #000000; text-decoration-color: #000000\"> </span><span style=\"color: #000000; text-decoration-color: #000000; font-weight: bold\">(</span><span style=\"color: #008080; text-decoration-color: #008080; font-weight: bold\">-121.93</span><span style=\"color: #000000; text-decoration-color: #000000\"> </span><span style=\"color: #008080; text-decoration-color: #008080; font-weight: bold\">36.601</span><span style=\"color: #000000; text-decoration-color: #000000; font-weight: bold\">)</span><span style=\"color: #000000; text-decoration-color: #000000\">&gt;,</span>\n",
       "<span style=\"color: #000000; text-decoration-color: #000000\">    </span><span style=\"color: #808000; text-decoration-color: #808000\">max_wind_speed</span><span style=\"color: #000000; text-decoration-color: #000000\">=&lt;</span><span style=\"color: #800080; text-decoration-color: #800080; font-weight: bold\">Quantity</span><span style=\"color: #000000; text-decoration-color: #000000; font-weight: bold\">(</span><span style=\"color: #008080; text-decoration-color: #008080; font-weight: bold\">50</span><span style=\"color: #000000; text-decoration-color: #000000\">, </span><span style=\"color: #008000; text-decoration-color: #008000\">'mile / hour'</span><span style=\"color: #000000; text-decoration-color: #000000; font-weight: bold\">)</span><span style=\"color: #000000; text-decoration-color: #000000\">&gt;,</span>\n",
       "<span style=\"color: #000000; text-decoration-color: #000000\">    </span><span style=\"color: #808000; text-decoration-color: #808000\">radius_of_max_wind</span><span style=\"color: #000000; text-decoration-color: #000000\">=&lt;</span><span style=\"color: #800080; text-decoration-color: #800080; font-weight: bold\">Quantity</span><span style=\"color: #000000; text-decoration-color: #000000; font-weight: bold\">(</span><span style=\"color: #008080; text-decoration-color: #008080; font-weight: bold\">50</span><span style=\"color: #000000; text-decoration-color: #000000\">, </span><span style=\"color: #008000; text-decoration-color: #008000\">'mile'</span><span style=\"color: #000000; text-decoration-color: #000000; font-weight: bold\">)</span><span style=\"color: #000000; text-decoration-color: #000000\">&gt;,</span>\n",
       "<span style=\"color: #000000; text-decoration-color: #000000\">    </span><span style=\"color: #808000; text-decoration-color: #808000\">radius_of_closest_isobar</span><span style=\"color: #000000; text-decoration-color: #000000\">=&lt;</span><span style=\"color: #800080; text-decoration-color: #800080; font-weight: bold\">Quantity</span><span style=\"color: #000000; text-decoration-color: #000000; font-weight: bold\">(</span><span style=\"color: #008080; text-decoration-color: #008080; font-weight: bold\">300</span><span style=\"color: #000000; text-decoration-color: #000000\">, </span><span style=\"color: #008000; text-decoration-color: #008000\">'mile'</span><span style=\"color: #000000; text-decoration-color: #000000; font-weight: bold\">)</span><span style=\"color: #000000; text-decoration-color: #000000\">&gt;,</span>\n",
       "<span style=\"color: #000000; text-decoration-color: #000000\">    </span><span style=\"color: #808000; text-decoration-color: #808000\">air_pressure</span><span style=\"color: #000000; text-decoration-color: #000000\">=&lt;</span><span style=\"color: #800080; text-decoration-color: #800080; font-weight: bold\">Quantity</span><span style=\"color: #000000; text-decoration-color: #000000; font-weight: bold\">(</span><span style=\"color: #008080; text-decoration-color: #008080; font-weight: bold\">1013.25</span><span style=\"color: #000000; text-decoration-color: #000000\">, </span><span style=\"color: #008000; text-decoration-color: #008000\">'hectopascal'</span><span style=\"color: #000000; text-decoration-color: #000000; font-weight: bold\">)</span><span style=\"font-weight: bold\">&gt;</span>\n",
       "<span style=\"font-weight: bold\">)</span>\n",
       "</pre>\n"
      ],
      "text/plain": [
       "\u001b[1;35mWindModel\u001b[0m\u001b[1m(\u001b[0m\n",
       "    \u001b[33mname\u001b[0m=\u001b[32m'hurricane 1'\u001b[0m,\n",
       "    \u001b[33mtimestamp\u001b[0m=\u001b[1;35mdatetime\u001b[0m\u001b[1;35m.datetime\u001b[0m\u001b[1m(\u001b[0m\u001b[1;36m2025\u001b[0m, \u001b[1;36m5\u001b[0m, \u001b[1;36m8\u001b[0m, \u001b[1;36m8\u001b[0m, \u001b[1;36m52\u001b[0m, \u001b[1;36m28\u001b[0m, \u001b[1;36m357580\u001b[0m\u001b[1m)\u001b[0m,\n",
       "    \u001b[33mcenter\u001b[0m=\u001b[1m<\u001b[0m\u001b[1;95mPOINT\u001b[0m\u001b[39m \u001b[0m\u001b[1;39m(\u001b[0m\u001b[1;36m-121.93\u001b[0m\u001b[39m \u001b[0m\u001b[1;36m36.601\u001b[0m\u001b[1;39m)\u001b[0m\u001b[39m>,\u001b[0m\n",
       "\u001b[39m    \u001b[0m\u001b[33mmax_wind_speed\u001b[0m\u001b[39m=<\u001b[0m\u001b[1;35mQuantity\u001b[0m\u001b[1;39m(\u001b[0m\u001b[1;36m50\u001b[0m\u001b[39m, \u001b[0m\u001b[32m'mile / hour'\u001b[0m\u001b[1;39m)\u001b[0m\u001b[39m>,\u001b[0m\n",
       "\u001b[39m    \u001b[0m\u001b[33mradius_of_max_wind\u001b[0m\u001b[39m=<\u001b[0m\u001b[1;35mQuantity\u001b[0m\u001b[1;39m(\u001b[0m\u001b[1;36m50\u001b[0m\u001b[39m, \u001b[0m\u001b[32m'mile'\u001b[0m\u001b[1;39m)\u001b[0m\u001b[39m>,\u001b[0m\n",
       "\u001b[39m    \u001b[0m\u001b[33mradius_of_closest_isobar\u001b[0m\u001b[39m=<\u001b[0m\u001b[1;35mQuantity\u001b[0m\u001b[1;39m(\u001b[0m\u001b[1;36m300\u001b[0m\u001b[39m, \u001b[0m\u001b[32m'mile'\u001b[0m\u001b[1;39m)\u001b[0m\u001b[39m>,\u001b[0m\n",
       "\u001b[39m    \u001b[0m\u001b[33mair_pressure\u001b[0m\u001b[39m=<\u001b[0m\u001b[1;35mQuantity\u001b[0m\u001b[1;39m(\u001b[0m\u001b[1;36m1013.25\u001b[0m\u001b[39m, \u001b[0m\u001b[32m'hectopascal'\u001b[0m\u001b[1;39m)\u001b[0m\u001b[1m>\u001b[0m\n",
       "\u001b[1m)\u001b[0m\n"
      ]
     },
     "metadata": {},
     "output_type": "display_data"
    }
   ],
   "source": [
    "earthquake = WindModel.example()\n",
    "earthquake.pprint()\n"
   ]
  },
  {
   "cell_type": "markdown",
   "metadata": {},
   "source": [
    "## Building from historical events\n",
    "\n",
    "Erad allows users to build wind models from historic hurricane events as well. The `from_hurricane_sid` class method can be used to build wind models representing historic events. "
   ]
  },
  {
   "cell_type": "code",
   "execution_count": 4,
   "metadata": {},
   "outputs": [
    {
     "data": {
      "text/html": [
       "<pre style=\"white-space:pre;overflow-x:auto;line-height:normal;font-family:Menlo,'DejaVu Sans Mono',consolas,'Courier New',monospace\"><span style=\"color: #800080; text-decoration-color: #800080; font-weight: bold\">WindModel</span><span style=\"font-weight: bold\">(</span>\n",
       "    <span style=\"color: #808000; text-decoration-color: #808000\">name</span>=<span style=\"color: #008000; text-decoration-color: #008000\">'2017228N14314'</span>,\n",
       "    <span style=\"color: #808000; text-decoration-color: #808000\">timestamp</span>=<span style=\"color: #800080; text-decoration-color: #800080; font-weight: bold\">Timestamp</span><span style=\"font-weight: bold\">(</span><span style=\"color: #008000; text-decoration-color: #008000\">'2017-08-16 06:00:00'</span><span style=\"font-weight: bold\">)</span>,\n",
       "    <span style=\"color: #808000; text-decoration-color: #808000\">center</span>=<span style=\"font-weight: bold\">&lt;</span><span style=\"color: #ff00ff; text-decoration-color: #ff00ff; font-weight: bold\">POINT</span><span style=\"color: #000000; text-decoration-color: #000000\"> </span><span style=\"color: #000000; text-decoration-color: #000000; font-weight: bold\">(</span><span style=\"color: #008080; text-decoration-color: #008080; font-weight: bold\">13.7</span><span style=\"color: #000000; text-decoration-color: #000000\"> </span><span style=\"color: #008080; text-decoration-color: #008080; font-weight: bold\">-45.8</span><span style=\"color: #000000; text-decoration-color: #000000; font-weight: bold\">)</span><span style=\"color: #000000; text-decoration-color: #000000\">&gt;,</span>\n",
       "<span style=\"color: #000000; text-decoration-color: #000000\">    </span><span style=\"color: #808000; text-decoration-color: #808000\">max_wind_speed</span><span style=\"color: #000000; text-decoration-color: #000000\">=&lt;</span><span style=\"color: #800080; text-decoration-color: #800080; font-weight: bold\">Quantity</span><span style=\"color: #000000; text-decoration-color: #000000; font-weight: bold\">(</span><span style=\"color: #008080; text-decoration-color: #008080; font-weight: bold\">25.0</span><span style=\"color: #000000; text-decoration-color: #000000\">, </span><span style=\"color: #008000; text-decoration-color: #008000\">'knot'</span><span style=\"color: #000000; text-decoration-color: #000000; font-weight: bold\">)</span><span style=\"color: #000000; text-decoration-color: #000000\">&gt;,</span>\n",
       "<span style=\"color: #000000; text-decoration-color: #000000\">    </span><span style=\"color: #808000; text-decoration-color: #808000\">radius_of_max_wind</span><span style=\"color: #000000; text-decoration-color: #000000\">=&lt;</span><span style=\"color: #800080; text-decoration-color: #800080; font-weight: bold\">Quantity</span><span style=\"color: #000000; text-decoration-color: #000000; font-weight: bold\">(</span><span style=\"color: #008080; text-decoration-color: #008080; font-weight: bold\">80.0</span><span style=\"color: #000000; text-decoration-color: #000000\">, </span><span style=\"color: #008000; text-decoration-color: #008000\">'nautical_mile'</span><span style=\"color: #000000; text-decoration-color: #000000; font-weight: bold\">)</span><span style=\"color: #000000; text-decoration-color: #000000\">&gt;,</span>\n",
       "<span style=\"color: #000000; text-decoration-color: #000000\">    </span><span style=\"color: #808000; text-decoration-color: #808000\">radius_of_closest_isobar</span><span style=\"color: #000000; text-decoration-color: #000000\">=&lt;</span><span style=\"color: #800080; text-decoration-color: #800080; font-weight: bold\">Quantity</span><span style=\"color: #000000; text-decoration-color: #000000; font-weight: bold\">(</span><span style=\"color: #008080; text-decoration-color: #008080; font-weight: bold\">150.0</span><span style=\"color: #000000; text-decoration-color: #000000\">, </span><span style=\"color: #008000; text-decoration-color: #008000\">'nautical_mile'</span><span style=\"color: #000000; text-decoration-color: #000000; font-weight: bold\">)</span><span style=\"color: #000000; text-decoration-color: #000000\">&gt;,</span>\n",
       "<span style=\"color: #000000; text-decoration-color: #000000\">    </span><span style=\"color: #808000; text-decoration-color: #808000\">air_pressure</span><span style=\"color: #000000; text-decoration-color: #000000\">=&lt;</span><span style=\"color: #800080; text-decoration-color: #800080; font-weight: bold\">Quantity</span><span style=\"color: #000000; text-decoration-color: #000000; font-weight: bold\">(</span><span style=\"color: #008080; text-decoration-color: #008080; font-weight: bold\">1013.0</span><span style=\"color: #000000; text-decoration-color: #000000\">, </span><span style=\"color: #008000; text-decoration-color: #008000\">'millibar'</span><span style=\"color: #000000; text-decoration-color: #000000; font-weight: bold\">)</span><span style=\"font-weight: bold\">&gt;</span>\n",
       "<span style=\"font-weight: bold\">)</span>\n",
       "</pre>\n"
      ],
      "text/plain": [
       "\u001b[1;35mWindModel\u001b[0m\u001b[1m(\u001b[0m\n",
       "    \u001b[33mname\u001b[0m=\u001b[32m'2017228N14314'\u001b[0m,\n",
       "    \u001b[33mtimestamp\u001b[0m=\u001b[1;35mTimestamp\u001b[0m\u001b[1m(\u001b[0m\u001b[32m'2017-08-16 06:00:00'\u001b[0m\u001b[1m)\u001b[0m,\n",
       "    \u001b[33mcenter\u001b[0m=\u001b[1m<\u001b[0m\u001b[1;95mPOINT\u001b[0m\u001b[39m \u001b[0m\u001b[1;39m(\u001b[0m\u001b[1;36m13.7\u001b[0m\u001b[39m \u001b[0m\u001b[1;36m-45.8\u001b[0m\u001b[1;39m)\u001b[0m\u001b[39m>,\u001b[0m\n",
       "\u001b[39m    \u001b[0m\u001b[33mmax_wind_speed\u001b[0m\u001b[39m=<\u001b[0m\u001b[1;35mQuantity\u001b[0m\u001b[1;39m(\u001b[0m\u001b[1;36m25.0\u001b[0m\u001b[39m, \u001b[0m\u001b[32m'knot'\u001b[0m\u001b[1;39m)\u001b[0m\u001b[39m>,\u001b[0m\n",
       "\u001b[39m    \u001b[0m\u001b[33mradius_of_max_wind\u001b[0m\u001b[39m=<\u001b[0m\u001b[1;35mQuantity\u001b[0m\u001b[1;39m(\u001b[0m\u001b[1;36m80.0\u001b[0m\u001b[39m, \u001b[0m\u001b[32m'nautical_mile'\u001b[0m\u001b[1;39m)\u001b[0m\u001b[39m>,\u001b[0m\n",
       "\u001b[39m    \u001b[0m\u001b[33mradius_of_closest_isobar\u001b[0m\u001b[39m=<\u001b[0m\u001b[1;35mQuantity\u001b[0m\u001b[1;39m(\u001b[0m\u001b[1;36m150.0\u001b[0m\u001b[39m, \u001b[0m\u001b[32m'nautical_mile'\u001b[0m\u001b[1;39m)\u001b[0m\u001b[39m>,\u001b[0m\n",
       "\u001b[39m    \u001b[0m\u001b[33mair_pressure\u001b[0m\u001b[39m=<\u001b[0m\u001b[1;35mQuantity\u001b[0m\u001b[1;39m(\u001b[0m\u001b[1;36m1013.0\u001b[0m\u001b[39m, \u001b[0m\u001b[32m'millibar'\u001b[0m\u001b[1;39m)\u001b[0m\u001b[1m>\u001b[0m\n",
       "\u001b[1m)\u001b[0m\n"
      ]
     },
     "metadata": {},
     "output_type": "display_data"
    },
    {
     "name": "stdout",
     "output_type": "stream",
     "text": [
      "number of hurricane points : 141\n"
     ]
    }
   ],
   "source": [
    "hurricane_track = WindModel.from_hurricane_sid('2017228N14314')\n",
    "for h in hurricane_track:\n",
    "    h.pprint()\n",
    "    break\n",
    "print(f\"number of hurricane points : {len(hurricane_track)}\")"
   ]
  },
  {
   "cell_type": "markdown",
   "metadata": {},
   "source": [
    "## Plotting the Wind Model\n"
   ]
  },
  {
   "cell_type": "code",
   "execution_count": 33,
   "metadata": {},
   "outputs": [
    {
     "data": {
      "application/vnd.plotly.v1+json": {
       "config": {
        "plotlyServerURL": "https://plot.ly"
       },
       "data": [
        {
         "lat": {
          "bdata": "ZmZmZmZmK0BmZmZmZmYrQGZmZmZmZitAMzMzMzMzK0AzMzMzMzMrQDMzMzMzMytAMzMzMzMzK0AAAAAAAAArQM3MzMzMzCpAZmZmZmZmKkAzMzMzMzMqQAAAAAAAACpAAAAAAAAAKkAAAAAAAAAqQAAAAAAAACpAAAAAAAAAKkAAAAAAAAAqQDMzMzMzMypAMzMzMzMzKkAzMzMzMzMqQGZmZmZmZipAZmZmZmZmKkCamZmZmZkqQM3MzMzMzCpAzczMzMzMKkAAAAAAAAArQDMzMzMzMytAZmZmZmZmK0BmZmZmZmYrQJqZmZmZmStAzczMzMzMK0AAAAAAAAAsQDMzMzMzMyxAZmZmZmZmLECamZmZmZksQM3MzMzMzCxAAAAAAAAALUBmZmZmZmYtQM3MzMzMzC1AMzMzMzMzLkDNzMzMzMwuQGZmZmZmZi9AAAAAAAAAMEBmZmZmZmYwQM3MzMzMzDBAzczMzMxMMUAzMzMzM7MxQAAAAAAAADJAzczMzMxMMkCamZmZmZkyQAAAAAAAADNAZmZmZmZmM0AzMzMzM7MzQAAAAAAAADRAzczMzMxMNEAAAAAAAIA0QDMzMzMzszRAZmZmZmbmNEAzMzMzMzM1QGZmZmZmZjVAAAAAAACANUCamZmZmZk1QM3MzMzMzDVAAAAAAAAANkBmZmZmZmY2QM3MzMzMzDZAzczMzMxMN0AzMzMzM7M3QJqZmZmZGThAZmZmZmZmOEAzMzMzM7M4QAAAAAAAADlAzczMzMxMOUCamZmZmZk5QGZmZmZm5jlAzczMzMxMOkAzMzMzM7M6QJqZmZmZGTtAAAAAAACAO0DNzMzMzMw7QAAAAAAAADxAMzMzMzMzPEAAAAAAAIA8QDMzMzMzszxAZmZmZmbmPEAAAAAAAAA9QJqZmZmZGT1AMzMzMzMzPUDNzMzMzEw9QM3MzMzMTD1AMzMzMzMzPUCamZmZmRk9QAAAAAAAAD1AAAAAAAAAPUBmZmZmZuY8QM3MzMzMzDxAMzMzMzOzPECamZmZmZk8QAAAAAAAgDxAAAAAAACAPEAAAAAAAIA8QGZmZmZmZjxAzczMzMxMPEAzMzMzMzM8QJqZmZmZGTxAmpmZmZkZPECamZmZmRk8QDMzMzMzMzxAzczMzMxMPEAAAAAAAIA8QDMzMzMzszxAZmZmZmbmPECamZmZmRk9QGZmZmZmZj1AzczMzMzMPUBmZmZmZuY9QJqZmZmZGT5AzczMzMxMPkCamZmZmZk+QGZmZmZm5j5AzczMzMxMP0CamZmZmZk/QGZmZmZm5j9AmpmZmZkZQEAAAAAAAEBAQDMzMzMzc0BAMzMzMzOzQEBmZmZmZuZAQM3MzMzMDEFAAAAAAABAQUAzMzMzM3NBQAAAAAAAwEFAAAAAAAAAQkBmZmZmZiZCQAAAAAAAQEJAZmZmZmZmQkCamZmZmZlCQM3MzMzMzEJAMzMzMzPzQkDNzMzMzAxDQJqZmZmZGUNA",
          "dtype": "f8"
         },
         "lon": {
          "bdata": "ZmZmZmbmRsDNzMzMzExHwDMzMzMzs0fAmpmZmZkZSMAAAAAAAIBIwGZmZmZm5kjAzczMzMxMScBmZmZmZqZJwAAAAAAAAErAmpmZmZlZSsAzMzMzM7NKwJqZmZmZGUvAAAAAAACAS8BmZmZmZuZLwM3MzMzMTEzAAAAAAADATMAzMzMzMzNNwGZmZmZmpk3AzczMzMzMTcBmZmZmZiZOwJqZmZmZmU7AmpmZmZkZT8DNzMzMzIxPwAAAAAAAAFDAmpmZmZk5UMDNzMzMzGxQwGZmZmZmplDAAAAAAADgUMCamZmZmRlRwM3MzMzMTFHAZmZmZmaGUcAAAAAAAMBRwJqZmZmZ+VHAmpmZmZk5UsAAAAAAAIBSwAAAAAAAwFLAmpmZmZn5UsAzMzMzMzNTwM3MzMzMbFPAZmZmZmamU8AAAAAAAOBTwAAAAAAAIFTAAAAAAABgVMAAAAAAAKBUwGZmZmZm5lTAZmZmZmYmVcBmZmZmZmZVwJqZmZmZmVXAzczMzMzMVcAzMzMzM/NVwDMzMzMzE1bAMzMzMzMzVsAzMzMzM1NWwM3MzMzMbFbAzczMzMyMVsDNzMzMzKxWwM3MzMzMzFbAZmZmZmbmVsAAAAAAAABXwDMzMzMzE1fAmpmZmZkZV8CamZmZmRlXwAAAAAAAIFfAAAAAAAAgV8AAAAAAACBXwGZmZmZmJlfAMzMzMzMzV8BmZmZmZkZXwDMzMzMzU1fAZmZmZmZmV8AAAAAAAIBXwJqZmZmZmVfAMzMzMzOzV8BmZmZmZsZXwAAAAAAA4FfAMzMzMzPzV8BmZmZmZgZYwDMzMzMzE1jAZmZmZmYmWMAzMzMzMzNYwJqZmZmZOVjAZmZmZmZGWMDNzMzMzExYwDMzMzMzU1jAmpmZmZlZWMAAAAAAAGBYwAAAAAAAYFjAmpmZmZlZWMAAAAAAAGBYwGZmZmZmZljAZmZmZmZmWMAAAAAAAGBYwJqZmZmZWVjAzczMzMxMWMAAAAAAAEBYwDMzMzMzM1jAZmZmZmYmWMAAAAAAACBYwJqZmZmZGVjAzczMzMwMWMBmZmZmZgZYwJqZmZmZ+VfAzczMzMzsV8CamZmZmdlXwM3MzMzMzFfAAAAAAADAV8AzMzMzM7NXwGZmZmZmplfAmpmZmZmZV8DNzMzMzIxXwAAAAAAAgFfAMzMzMzNzV8DNzMzMzGxXwGZmZmZmZlfAAAAAAABgV8AAAAAAAGBXwJqZmZmZWVfAMzMzMzNTV8BmZmZmZkZXwJqZmZmZOVfAZmZmZmYmV8CamZmZmRlXwM3MzMzMDFfAAAAAAAAAV8DNzMzMzOxWwJqZmZmZ2VbAmpmZmZm5VsAzMzMzM5NWwGZmZmZmZlbAmpmZmZk5VsDNzMzMzAxWwGZmZmZm5lXAZmZmZmbGVcDNzMzMzKxVwJqZmZmZmVXAAAAAAACAVcBmZmZmZmZVwM3MzMzMTFXAmpmZmZk5VcAzMzMzMzNVwM3MzMzMLFXA",
          "dtype": "f8"
         },
         "marker": {
          "color": "lightblue",
          "opacity": 0.4,
          "size": {
           "bdata": "AAAAAAAAPkAAAAAAAAA+QAAAAAAAAD5AAAAAAAAAPkAAAAAAAAA+QAAAAAAAADtAAAAAAAAAOEAAAAAAAAA4QAAAAAAAADhAAAAAAAAAOEAAAAAAAAA4QAAAAAAAADhAAAAAAAAAOEAAAAAAAAA4QAAAAAAAADhAAAAAAAAAOEAAAAAAAAA4QAAAAAAAADhAAAAAAAAAOEAAAAAAAAA4QAAAAAAAADhAAAAAAAAAOEAAAAAAAAA4QAAAAAAAADhAAAAAAAAAOEAAAAAAAAA4QAAAAAAAADZAAAAAAAAANEAAAAAAAAA0QAAAAAAAADRAAAAAAAAAPEAAAAAAAABCQAAAAAAAAEJAAAAAAAAAQkAAAAAAAIBAQAAAAAAAAD5AAAAAAAAAO0AAAAAAAAA4QAAAAAAAADhAAAAAAAAAOEAAAAAAAAA4QAAAAAAAADhAAAAAAAAAOEAAAAAAAAA4QAAAAAAAADhAAAAAAAAAOEAAAAAAAAA4QAAAAAAAADhAAAAAAAAAOEAAAAAAAAA4QAAAAAAAADhAAAAAAAAAOEAAAAAAAAA4QAAAAAAAADhAAAAAAAAAOEAAAAAAAAA4QAAAAAAAADpAAAAAAAAAPEAAAAAAAAA9QAAAAAAAAD5AAAAAAAAAPkAAAAAAAAA+QAAAAAAAAD5AAAAAAAAAPkAAAAAAAAA+QAAAAAAAAD5AAAAAAACAQEAAAAAAAABCQAAAAAAAAEJAAAAAAAAAQkAAAAAAAIBCQAAAAAAAAENAAAAAAAAAQ0AAAAAAAABDQAAAAAAAAERAAAAAAAAARUAAAAAAAIBDQAAAAAAAAEJAAAAAAAAAQkAAAAAAAABCQAAAAAAAAEJAAAAAAAAAQkAAAAAAAABCQAAAAAAAAEJAAAAAAAAAQkAAAAAAAABCQAAAAAAAAEJAAAAAAAAAQkAAAAAAAABCQAAAAAAAAEJAAAAAAAAAQkAAAAAAAABCQAAAAAAAAEJAAAAAAAAAQkAAAAAAAIBDQAAAAAAAAEVAAAAAAACAQ0AAAAAAAABCQAAAAAAAAEJAAAAAAAAAQkAAAAAAAABCQAAAAAAAAEJAAAAAAAAAQ0AAAAAAAABEQAAAAAAAAERAAAAAAAAAREAAAAAAAABEQAAAAAAAAERAAAAAAAAAREAAAAAAAABEQAAAAAAAAERAAAAAAAAAREAAAAAAAABEQAAAAAAAAERAAAAAAAAAREAAAAAAAABEQAAAAAAAAERAAAAAAAAAREAAAAAAAABEQAAAAAAAAEVAAAAAAAAARkAAAAAAAABGQAAAAAAAAEZAAAAAAAAARkAAAAAAAABGQAAAAAAAAEZAAAAAAAAARkAAAAAAAABGQAAAAAAAAEZAAAAAAAAARkAAAAAAAABGQAAAAAAAAEZAAAAAAAAARkAAAAAAAABGQAAAAAAAAEZAAAAAAAAARkAAAAAAAABGQAAAAAAAAEZAAAAAAAAARkAAAAAAAABGQAAAAAAAAEZA",
           "dtype": "f8"
          }
         },
         "mode": "markers",
         "name": "Radius of closest isobar",
         "type": "scattergeo"
        },
        {
         "lat": {
          "bdata": "ZmZmZmZmK0BmZmZmZmYrQGZmZmZmZitAMzMzMzMzK0AzMzMzMzMrQDMzMzMzMytAMzMzMzMzK0AAAAAAAAArQM3MzMzMzCpAZmZmZmZmKkAzMzMzMzMqQAAAAAAAACpAAAAAAAAAKkAAAAAAAAAqQAAAAAAAACpAAAAAAAAAKkAAAAAAAAAqQDMzMzMzMypAMzMzMzMzKkAzMzMzMzMqQGZmZmZmZipAZmZmZmZmKkCamZmZmZkqQM3MzMzMzCpAzczMzMzMKkAAAAAAAAArQDMzMzMzMytAZmZmZmZmK0BmZmZmZmYrQJqZmZmZmStAzczMzMzMK0AAAAAAAAAsQDMzMzMzMyxAZmZmZmZmLECamZmZmZksQM3MzMzMzCxAAAAAAAAALUBmZmZmZmYtQM3MzMzMzC1AMzMzMzMzLkDNzMzMzMwuQGZmZmZmZi9AAAAAAAAAMEBmZmZmZmYwQM3MzMzMzDBAzczMzMxMMUAzMzMzM7MxQAAAAAAAADJAzczMzMxMMkCamZmZmZkyQAAAAAAAADNAZmZmZmZmM0AzMzMzM7MzQAAAAAAAADRAzczMzMxMNEAAAAAAAIA0QDMzMzMzszRAZmZmZmbmNEAzMzMzMzM1QGZmZmZmZjVAAAAAAACANUCamZmZmZk1QM3MzMzMzDVAAAAAAAAANkBmZmZmZmY2QM3MzMzMzDZAzczMzMxMN0AzMzMzM7M3QJqZmZmZGThAZmZmZmZmOEAzMzMzM7M4QAAAAAAAADlAzczMzMxMOUCamZmZmZk5QGZmZmZm5jlAzczMzMxMOkAzMzMzM7M6QJqZmZmZGTtAAAAAAACAO0DNzMzMzMw7QAAAAAAAADxAMzMzMzMzPEAAAAAAAIA8QDMzMzMzszxAZmZmZmbmPEAAAAAAAAA9QJqZmZmZGT1AMzMzMzMzPUDNzMzMzEw9QM3MzMzMTD1AMzMzMzMzPUCamZmZmRk9QAAAAAAAAD1AAAAAAAAAPUBmZmZmZuY8QM3MzMzMzDxAMzMzMzOzPECamZmZmZk8QAAAAAAAgDxAAAAAAACAPEAAAAAAAIA8QGZmZmZmZjxAzczMzMxMPEAzMzMzMzM8QJqZmZmZGTxAmpmZmZkZPECamZmZmRk8QDMzMzMzMzxAzczMzMxMPEAAAAAAAIA8QDMzMzMzszxAZmZmZmbmPECamZmZmRk9QGZmZmZmZj1AzczMzMzMPUBmZmZmZuY9QJqZmZmZGT5AzczMzMxMPkCamZmZmZk+QGZmZmZm5j5AzczMzMxMP0CamZmZmZk/QGZmZmZm5j9AmpmZmZkZQEAAAAAAAEBAQDMzMzMzc0BAMzMzMzOzQEBmZmZmZuZAQM3MzMzMDEFAAAAAAABAQUAzMzMzM3NBQAAAAAAAwEFAAAAAAAAAQkBmZmZmZiZCQAAAAAAAQEJAZmZmZmZmQkCamZmZmZlCQM3MzMzMzEJAMzMzMzPzQkDNzMzMzAxDQJqZmZmZGUNA",
          "dtype": "f8"
         },
         "lon": {
          "bdata": "ZmZmZmbmRsDNzMzMzExHwDMzMzMzs0fAmpmZmZkZSMAAAAAAAIBIwGZmZmZm5kjAzczMzMxMScBmZmZmZqZJwAAAAAAAAErAmpmZmZlZSsAzMzMzM7NKwJqZmZmZGUvAAAAAAACAS8BmZmZmZuZLwM3MzMzMTEzAAAAAAADATMAzMzMzMzNNwGZmZmZmpk3AzczMzMzMTcBmZmZmZiZOwJqZmZmZmU7AmpmZmZkZT8DNzMzMzIxPwAAAAAAAAFDAmpmZmZk5UMDNzMzMzGxQwGZmZmZmplDAAAAAAADgUMCamZmZmRlRwM3MzMzMTFHAZmZmZmaGUcAAAAAAAMBRwJqZmZmZ+VHAmpmZmZk5UsAAAAAAAIBSwAAAAAAAwFLAmpmZmZn5UsAzMzMzMzNTwM3MzMzMbFPAZmZmZmamU8AAAAAAAOBTwAAAAAAAIFTAAAAAAABgVMAAAAAAAKBUwGZmZmZm5lTAZmZmZmYmVcBmZmZmZmZVwJqZmZmZmVXAzczMzMzMVcAzMzMzM/NVwDMzMzMzE1bAMzMzMzMzVsAzMzMzM1NWwM3MzMzMbFbAzczMzMyMVsDNzMzMzKxWwM3MzMzMzFbAZmZmZmbmVsAAAAAAAABXwDMzMzMzE1fAmpmZmZkZV8CamZmZmRlXwAAAAAAAIFfAAAAAAAAgV8AAAAAAACBXwGZmZmZmJlfAMzMzMzMzV8BmZmZmZkZXwDMzMzMzU1fAZmZmZmZmV8AAAAAAAIBXwJqZmZmZmVfAMzMzMzOzV8BmZmZmZsZXwAAAAAAA4FfAMzMzMzPzV8BmZmZmZgZYwDMzMzMzE1jAZmZmZmYmWMAzMzMzMzNYwJqZmZmZOVjAZmZmZmZGWMDNzMzMzExYwDMzMzMzU1jAmpmZmZlZWMAAAAAAAGBYwAAAAAAAYFjAmpmZmZlZWMAAAAAAAGBYwGZmZmZmZljAZmZmZmZmWMAAAAAAAGBYwJqZmZmZWVjAzczMzMxMWMAAAAAAAEBYwDMzMzMzM1jAZmZmZmYmWMAAAAAAACBYwJqZmZmZGVjAzczMzMwMWMBmZmZmZgZYwJqZmZmZ+VfAzczMzMzsV8CamZmZmdlXwM3MzMzMzFfAAAAAAADAV8AzMzMzM7NXwGZmZmZmplfAmpmZmZmZV8DNzMzMzIxXwAAAAAAAgFfAMzMzMzNzV8DNzMzMzGxXwGZmZmZmZlfAAAAAAABgV8AAAAAAAGBXwJqZmZmZWVfAMzMzMzNTV8BmZmZmZkZXwJqZmZmZOVfAZmZmZmYmV8CamZmZmRlXwM3MzMzMDFfAAAAAAAAAV8DNzMzMzOxWwJqZmZmZ2VbAmpmZmZm5VsAzMzMzM5NWwGZmZmZmZlbAmpmZmZk5VsDNzMzMzAxWwGZmZmZm5lXAZmZmZmbGVcDNzMzMzKxVwJqZmZmZmVXAAAAAAACAVcBmZmZmZmZVwM3MzMzMTFXAmpmZmZk5VcAzMzMzMzNVwM3MzMzMLFXA",
          "dtype": "f8"
         },
         "marker": {
          "color": {
           "bdata": "AAAAAAAAOUAAAAAAAAA5QAAAAAAAADlAAAAAAAAAOUAAAAAAAAA5QAAAAAAAADlAAAAAAAAAOUAAAAAAAAA5QAAAAAAAADlAAAAAAAAAPEAAAAAAAAA+QAAAAAAAgEBAAAAAAACAQUAAAAAAAABDQAAAAAAAAERAAAAAAAAAREAAAAAAAABEQAAAAAAAAERAAAAAAAAAREAAAAAAAABEQAAAAAAAAERAAAAAAACAQUAAAAAAAIBBQAAAAAAAgEFAAAAAAACAQUAAAAAAAIBBQAAAAAAAgEBAAAAAAAAAPkAAAAAAAAA+QAAAAAAAAD5AAAAAAAAAPkAAAAAAAAA+QAAAAAAAAD5AAAAAAAAAPkAAAAAAAAA+QAAAAAAAAD5AAAAAAAAAPkAAAAAAAAA+QAAAAAAAADxAAAAAAAAAOUAAAAAAAAA5QAAAAAAAADlAAAAAAAAAOUAAAAAAAAA5QAAAAAAAADlAAAAAAAAAOUAAAAAAAAA5QAAAAAAAADlAAAAAAAAAOUAAAAAAAAA5QAAAAAAAADlAAAAAAAAAOUAAAAAAAAA5QAAAAAAAADlAAAAAAAAAOUAAAAAAAAA5QAAAAAAAADlAAAAAAAAAOUAAAAAAAAA8QAAAAAAAAD5AAAAAAACAQEAAAAAAAIBBQAAAAAAAAENAAAAAAAAAREAAAAAAAIBGQAAAAAAAAElAAAAAAACAS0AAAAAAAABOQAAAAAAAQFBAAAAAAACAUUAAAAAAAMBSQAAAAAAAAFRAAAAAAABAVUAAAAAAAIBWQAAAAAAAQFdAAAAAAADAV0AAAAAAAABZQAAAAAAAQFpAAAAAAACAW0AAAAAAAMBcQAAAAAAAwFxAAAAAAABAWkAAAAAAAEBVQAAAAAAAQFBAAAAAAAAATUAAAAAAAABJQAAAAAAAAEhAAAAAAACARkAAAAAAAIBFQAAAAAAAAERAAAAAAAAAQ0AAAAAAAIBBQAAAAAAAgEFAAAAAAACAQUAAAAAAAIBBQAAAAAAAgEFAAAAAAAAAQ0AAAAAAAABEQAAAAAAAAERAAAAAAAAAREAAAAAAAABEQAAAAAAAAERAAAAAAAAAREAAAAAAAABEQAAAAAAAAERAAAAAAAAAREAAAAAAAABEQAAAAAAAAERAAAAAAACARUAAAAAAAIBGQAAAAAAAgEZAAAAAAACARkAAAAAAAIBFQAAAAAAAAERAAAAAAAAAREAAAAAAAABEQAAAAAAAAERAAAAAAAAAQ0AAAAAAAIBBQAAAAAAAgEBAAAAAAAAAPkAAAAAAAAA8QAAAAAAAADlAAAAAAAAAN0AAAAAAAAA0QAAAAAAAADdAAAAAAAAAOUAAAAAAAAA8QAAAAAAAAD5AAAAAAAAAPkAAAAAAAAA+QAAAAAAAADxAAAAAAAAAOUAAAAAAAAA3QAAAAAAAADRAAAAAAAAANEAAAAAAAAA0QAAAAAAAADRAAAAAAAAANEAAAAAAAAAyQAAAAAAAAC5A",
           "dtype": "f8"
          },
          "colorbar": {
           "orientation": "h",
           "title": {
            "text": "Maximum win speed (knot)"
           },
           "x": 0.5,
           "y": -0.25
          },
          "colorscale": [
           [
            0,
            "#0d0887"
           ],
           [
            0.1111111111111111,
            "#46039f"
           ],
           [
            0.2222222222222222,
            "#7201a8"
           ],
           [
            0.3333333333333333,
            "#9c179e"
           ],
           [
            0.4444444444444444,
            "#bd3786"
           ],
           [
            0.5555555555555556,
            "#d8576b"
           ],
           [
            0.6666666666666666,
            "#ed7953"
           ],
           [
            0.7777777777777778,
            "#fb9f3a"
           ],
           [
            0.8888888888888888,
            "#fdca26"
           ],
           [
            1,
            "#f0f921"
           ]
          ],
          "opacity": 0.4,
          "size": {
           "bdata": "AAAAAAAAMEAAAAAAAAAwQAAAAAAAADBAAAAAAAAAMEAAAAAAAAAwQAAAAAAAADBAAAAAAAAAMEAAAAAAAAAuQAAAAAAAACxAAAAAAAAALEAAAAAAAAAsQAAAAAAAACRAAAAAAAAAGEAAAAAAAAAYQAAAAAAAABhAAAAAAAAAGEAAAAAAAAAYQAAAAAAAABhAAAAAAAAAGEAAAAAAAAAgQAAAAAAAACBAAAAAAAAAKEAAAAAAAAAoQAAAAAAAAChAAAAAAAAAKEAAAAAAAAAoQAAAAAAAAChAAAAAAAAAKEAAAAAAAAAoQAAAAAAAAChAAAAAAAAAKEAAAAAAAAAoQAAAAAAAAChAAAAAAAAAKEAAAAAAAAAoQAAAAAAAAChAAAAAAAAAKEAAAAAAAAAoQAAAAAAAAC5AAAAAAAAAMkAAAAAAAAAyQAAAAAAAADJAAAAAAAAAMkAAAAAAAAAyQAAAAAAAADJAAAAAAAAAMkAAAAAAAAAyQAAAAAAAADJAAAAAAAAAMkAAAAAAAAAyQAAAAAAAADJAAAAAAAAAMkAAAAAAAAAyQAAAAAAAADJAAAAAAAAAMkAAAAAAAAAyQAAAAAAAADJAAAAAAAAAMkAAAAAAAAAzQAAAAAAAADRAAAAAAAAANEAAAAAAAAA0QAAAAAAAADBAAAAAAAAAKEAAAAAAAAAiQAAAAAAAABhAAAAAAAAAGEAAAAAAAAAYQGZmZmZmZhJAAAAAAAAACEDNzMzMzMwEQAAAAAAAAABAAAAAAAAAAEAAAAAAAAAAQAAAAAAAAABAAAAAAAAAAEDNzMzMzMwEQAAAAAAAAAhAAAAAAAAACEAAAAAAAAAIQAAAAAAAAABAAAAAAAAAAEAAAAAAAAAAQAAAAAAAAABAAAAAAAAAAEAAAAAAAAAAQAAAAAAAAAhAAAAAAAAAEEAAAAAAAAAQQAAAAAAAABBAAAAAAAAAKEAAAAAAAAA0QAAAAAAAADNAAAAAAAAAMkAAAAAAAAAyQAAAAAAAADJAAAAAAAAAMkAAAAAAAAAyQAAAAAAAAC5AAAAAAAAAKEAAAAAAAAAoQAAAAAAAAChAAAAAAAAAKEAAAAAAAAAoQAAAAAAAAChAAAAAAAAAKEAAAAAAAAAoQAAAAAAAAChAAAAAAAAAKEAAAAAAAAAoQAAAAAAAAChAAAAAAAAAKEAAAAAAAAAmQAAAAAAAACRAAAAAAAAAJEAzMzMzMzMjQAAAAAAAACBAAAAAAAAAJkAAAAAAAAAsQAAAAAAAAC5AAAAAAAAAMEAAAAAAAAAwQAAAAAAAADBAAAAAAAAAMEAAAAAAAAAwQAAAAAAAADBAAAAAAAAAMEAAAAAAAAAwQAAAAAAAADBAAAAAAAAAMEAAAAAAAAAwQAAAAAAAADBAAAAAAAAAMEAAAAAAAAAwQAAAAAAAADBAAAAAAAAAMEAAAAAAAAAwQAAAAAAAADBAAAAAAAAAMEAAAAAAAAAwQAAAAAAAADBA",
           "dtype": "f8"
          }
         },
         "mode": "markers",
         "name": "Radius of max wind",
         "type": "scattergeo"
        }
       ],
       "layout": {
        "template": {
         "data": {
          "bar": [
           {
            "error_x": {
             "color": "#2a3f5f"
            },
            "error_y": {
             "color": "#2a3f5f"
            },
            "marker": {
             "line": {
              "color": "#E5ECF6",
              "width": 0.5
             },
             "pattern": {
              "fillmode": "overlay",
              "size": 10,
              "solidity": 0.2
             }
            },
            "type": "bar"
           }
          ],
          "barpolar": [
           {
            "marker": {
             "line": {
              "color": "#E5ECF6",
              "width": 0.5
             },
             "pattern": {
              "fillmode": "overlay",
              "size": 10,
              "solidity": 0.2
             }
            },
            "type": "barpolar"
           }
          ],
          "carpet": [
           {
            "aaxis": {
             "endlinecolor": "#2a3f5f",
             "gridcolor": "white",
             "linecolor": "white",
             "minorgridcolor": "white",
             "startlinecolor": "#2a3f5f"
            },
            "baxis": {
             "endlinecolor": "#2a3f5f",
             "gridcolor": "white",
             "linecolor": "white",
             "minorgridcolor": "white",
             "startlinecolor": "#2a3f5f"
            },
            "type": "carpet"
           }
          ],
          "choropleth": [
           {
            "colorbar": {
             "outlinewidth": 0,
             "ticks": ""
            },
            "type": "choropleth"
           }
          ],
          "contour": [
           {
            "colorbar": {
             "outlinewidth": 0,
             "ticks": ""
            },
            "colorscale": [
             [
              0,
              "#0d0887"
             ],
             [
              0.1111111111111111,
              "#46039f"
             ],
             [
              0.2222222222222222,
              "#7201a8"
             ],
             [
              0.3333333333333333,
              "#9c179e"
             ],
             [
              0.4444444444444444,
              "#bd3786"
             ],
             [
              0.5555555555555556,
              "#d8576b"
             ],
             [
              0.6666666666666666,
              "#ed7953"
             ],
             [
              0.7777777777777778,
              "#fb9f3a"
             ],
             [
              0.8888888888888888,
              "#fdca26"
             ],
             [
              1,
              "#f0f921"
             ]
            ],
            "type": "contour"
           }
          ],
          "contourcarpet": [
           {
            "colorbar": {
             "outlinewidth": 0,
             "ticks": ""
            },
            "type": "contourcarpet"
           }
          ],
          "heatmap": [
           {
            "colorbar": {
             "outlinewidth": 0,
             "ticks": ""
            },
            "colorscale": [
             [
              0,
              "#0d0887"
             ],
             [
              0.1111111111111111,
              "#46039f"
             ],
             [
              0.2222222222222222,
              "#7201a8"
             ],
             [
              0.3333333333333333,
              "#9c179e"
             ],
             [
              0.4444444444444444,
              "#bd3786"
             ],
             [
              0.5555555555555556,
              "#d8576b"
             ],
             [
              0.6666666666666666,
              "#ed7953"
             ],
             [
              0.7777777777777778,
              "#fb9f3a"
             ],
             [
              0.8888888888888888,
              "#fdca26"
             ],
             [
              1,
              "#f0f921"
             ]
            ],
            "type": "heatmap"
           }
          ],
          "histogram": [
           {
            "marker": {
             "pattern": {
              "fillmode": "overlay",
              "size": 10,
              "solidity": 0.2
             }
            },
            "type": "histogram"
           }
          ],
          "histogram2d": [
           {
            "colorbar": {
             "outlinewidth": 0,
             "ticks": ""
            },
            "colorscale": [
             [
              0,
              "#0d0887"
             ],
             [
              0.1111111111111111,
              "#46039f"
             ],
             [
              0.2222222222222222,
              "#7201a8"
             ],
             [
              0.3333333333333333,
              "#9c179e"
             ],
             [
              0.4444444444444444,
              "#bd3786"
             ],
             [
              0.5555555555555556,
              "#d8576b"
             ],
             [
              0.6666666666666666,
              "#ed7953"
             ],
             [
              0.7777777777777778,
              "#fb9f3a"
             ],
             [
              0.8888888888888888,
              "#fdca26"
             ],
             [
              1,
              "#f0f921"
             ]
            ],
            "type": "histogram2d"
           }
          ],
          "histogram2dcontour": [
           {
            "colorbar": {
             "outlinewidth": 0,
             "ticks": ""
            },
            "colorscale": [
             [
              0,
              "#0d0887"
             ],
             [
              0.1111111111111111,
              "#46039f"
             ],
             [
              0.2222222222222222,
              "#7201a8"
             ],
             [
              0.3333333333333333,
              "#9c179e"
             ],
             [
              0.4444444444444444,
              "#bd3786"
             ],
             [
              0.5555555555555556,
              "#d8576b"
             ],
             [
              0.6666666666666666,
              "#ed7953"
             ],
             [
              0.7777777777777778,
              "#fb9f3a"
             ],
             [
              0.8888888888888888,
              "#fdca26"
             ],
             [
              1,
              "#f0f921"
             ]
            ],
            "type": "histogram2dcontour"
           }
          ],
          "mesh3d": [
           {
            "colorbar": {
             "outlinewidth": 0,
             "ticks": ""
            },
            "type": "mesh3d"
           }
          ],
          "parcoords": [
           {
            "line": {
             "colorbar": {
              "outlinewidth": 0,
              "ticks": ""
             }
            },
            "type": "parcoords"
           }
          ],
          "pie": [
           {
            "automargin": true,
            "type": "pie"
           }
          ],
          "scatter": [
           {
            "fillpattern": {
             "fillmode": "overlay",
             "size": 10,
             "solidity": 0.2
            },
            "type": "scatter"
           }
          ],
          "scatter3d": [
           {
            "line": {
             "colorbar": {
              "outlinewidth": 0,
              "ticks": ""
             }
            },
            "marker": {
             "colorbar": {
              "outlinewidth": 0,
              "ticks": ""
             }
            },
            "type": "scatter3d"
           }
          ],
          "scattercarpet": [
           {
            "marker": {
             "colorbar": {
              "outlinewidth": 0,
              "ticks": ""
             }
            },
            "type": "scattercarpet"
           }
          ],
          "scattergeo": [
           {
            "marker": {
             "colorbar": {
              "outlinewidth": 0,
              "ticks": ""
             }
            },
            "type": "scattergeo"
           }
          ],
          "scattergl": [
           {
            "marker": {
             "colorbar": {
              "outlinewidth": 0,
              "ticks": ""
             }
            },
            "type": "scattergl"
           }
          ],
          "scattermap": [
           {
            "marker": {
             "colorbar": {
              "outlinewidth": 0,
              "ticks": ""
             }
            },
            "type": "scattermap"
           }
          ],
          "scattermapbox": [
           {
            "marker": {
             "colorbar": {
              "outlinewidth": 0,
              "ticks": ""
             }
            },
            "type": "scattermapbox"
           }
          ],
          "scatterpolar": [
           {
            "marker": {
             "colorbar": {
              "outlinewidth": 0,
              "ticks": ""
             }
            },
            "type": "scatterpolar"
           }
          ],
          "scatterpolargl": [
           {
            "marker": {
             "colorbar": {
              "outlinewidth": 0,
              "ticks": ""
             }
            },
            "type": "scatterpolargl"
           }
          ],
          "scatterternary": [
           {
            "marker": {
             "colorbar": {
              "outlinewidth": 0,
              "ticks": ""
             }
            },
            "type": "scatterternary"
           }
          ],
          "surface": [
           {
            "colorbar": {
             "outlinewidth": 0,
             "ticks": ""
            },
            "colorscale": [
             [
              0,
              "#0d0887"
             ],
             [
              0.1111111111111111,
              "#46039f"
             ],
             [
              0.2222222222222222,
              "#7201a8"
             ],
             [
              0.3333333333333333,
              "#9c179e"
             ],
             [
              0.4444444444444444,
              "#bd3786"
             ],
             [
              0.5555555555555556,
              "#d8576b"
             ],
             [
              0.6666666666666666,
              "#ed7953"
             ],
             [
              0.7777777777777778,
              "#fb9f3a"
             ],
             [
              0.8888888888888888,
              "#fdca26"
             ],
             [
              1,
              "#f0f921"
             ]
            ],
            "type": "surface"
           }
          ],
          "table": [
           {
            "cells": {
             "fill": {
              "color": "#EBF0F8"
             },
             "line": {
              "color": "white"
             }
            },
            "header": {
             "fill": {
              "color": "#C8D4E3"
             },
             "line": {
              "color": "white"
             }
            },
            "type": "table"
           }
          ]
         },
         "layout": {
          "annotationdefaults": {
           "arrowcolor": "#2a3f5f",
           "arrowhead": 0,
           "arrowwidth": 1
          },
          "autotypenumbers": "strict",
          "coloraxis": {
           "colorbar": {
            "outlinewidth": 0,
            "ticks": ""
           }
          },
          "colorscale": {
           "diverging": [
            [
             0,
             "#8e0152"
            ],
            [
             0.1,
             "#c51b7d"
            ],
            [
             0.2,
             "#de77ae"
            ],
            [
             0.3,
             "#f1b6da"
            ],
            [
             0.4,
             "#fde0ef"
            ],
            [
             0.5,
             "#f7f7f7"
            ],
            [
             0.6,
             "#e6f5d0"
            ],
            [
             0.7,
             "#b8e186"
            ],
            [
             0.8,
             "#7fbc41"
            ],
            [
             0.9,
             "#4d9221"
            ],
            [
             1,
             "#276419"
            ]
           ],
           "sequential": [
            [
             0,
             "#0d0887"
            ],
            [
             0.1111111111111111,
             "#46039f"
            ],
            [
             0.2222222222222222,
             "#7201a8"
            ],
            [
             0.3333333333333333,
             "#9c179e"
            ],
            [
             0.4444444444444444,
             "#bd3786"
            ],
            [
             0.5555555555555556,
             "#d8576b"
            ],
            [
             0.6666666666666666,
             "#ed7953"
            ],
            [
             0.7777777777777778,
             "#fb9f3a"
            ],
            [
             0.8888888888888888,
             "#fdca26"
            ],
            [
             1,
             "#f0f921"
            ]
           ],
           "sequentialminus": [
            [
             0,
             "#0d0887"
            ],
            [
             0.1111111111111111,
             "#46039f"
            ],
            [
             0.2222222222222222,
             "#7201a8"
            ],
            [
             0.3333333333333333,
             "#9c179e"
            ],
            [
             0.4444444444444444,
             "#bd3786"
            ],
            [
             0.5555555555555556,
             "#d8576b"
            ],
            [
             0.6666666666666666,
             "#ed7953"
            ],
            [
             0.7777777777777778,
             "#fb9f3a"
            ],
            [
             0.8888888888888888,
             "#fdca26"
            ],
            [
             1,
             "#f0f921"
            ]
           ]
          },
          "colorway": [
           "#636efa",
           "#EF553B",
           "#00cc96",
           "#ab63fa",
           "#FFA15A",
           "#19d3f3",
           "#FF6692",
           "#B6E880",
           "#FF97FF",
           "#FECB52"
          ],
          "font": {
           "color": "#2a3f5f"
          },
          "geo": {
           "bgcolor": "white",
           "lakecolor": "white",
           "landcolor": "#E5ECF6",
           "showlakes": true,
           "showland": true,
           "subunitcolor": "white"
          },
          "hoverlabel": {
           "align": "left"
          },
          "hovermode": "closest",
          "mapbox": {
           "style": "light"
          },
          "paper_bgcolor": "white",
          "plot_bgcolor": "#E5ECF6",
          "polar": {
           "angularaxis": {
            "gridcolor": "white",
            "linecolor": "white",
            "ticks": ""
           },
           "bgcolor": "#E5ECF6",
           "radialaxis": {
            "gridcolor": "white",
            "linecolor": "white",
            "ticks": ""
           }
          },
          "scene": {
           "xaxis": {
            "backgroundcolor": "#E5ECF6",
            "gridcolor": "white",
            "gridwidth": 2,
            "linecolor": "white",
            "showbackground": true,
            "ticks": "",
            "zerolinecolor": "white"
           },
           "yaxis": {
            "backgroundcolor": "#E5ECF6",
            "gridcolor": "white",
            "gridwidth": 2,
            "linecolor": "white",
            "showbackground": true,
            "ticks": "",
            "zerolinecolor": "white"
           },
           "zaxis": {
            "backgroundcolor": "#E5ECF6",
            "gridcolor": "white",
            "gridwidth": 2,
            "linecolor": "white",
            "showbackground": true,
            "ticks": "",
            "zerolinecolor": "white"
           }
          },
          "shapedefaults": {
           "line": {
            "color": "#2a3f5f"
           }
          },
          "ternary": {
           "aaxis": {
            "gridcolor": "white",
            "linecolor": "white",
            "ticks": ""
           },
           "baxis": {
            "gridcolor": "white",
            "linecolor": "white",
            "ticks": ""
           },
           "bgcolor": "#E5ECF6",
           "caxis": {
            "gridcolor": "white",
            "linecolor": "white",
            "ticks": ""
           }
          },
          "title": {
           "x": 0.05
          },
          "xaxis": {
           "automargin": true,
           "gridcolor": "white",
           "linecolor": "white",
           "ticks": "",
           "title": {
            "standoff": 15
           },
           "zerolinecolor": "white",
           "zerolinewidth": 2
          },
          "yaxis": {
           "automargin": true,
           "gridcolor": "white",
           "linecolor": "white",
           "ticks": "",
           "title": {
            "standoff": 15
           },
           "zerolinecolor": "white",
           "zerolinewidth": 2
          }
         }
        }
       }
      }
     },
     "metadata": {},
     "output_type": "display_data"
    }
   ],
   "source": [
    "from collections import defaultdict\n",
    "import plotly.graph_objects as go\n",
    "import plotly.express as px\n",
    "import pandas as pd\n",
    "\n",
    "data  = defaultdict(list)\n",
    "for h in hurricane_track:\n",
    "    data[\"timestamp\"].append(h.timestamp)\n",
    "    data[\"lat\"].append(h.center.x)\n",
    "    data[\"lon\"].append(h.center.y)\n",
    "    data[\"air_pressure\"].append(h.air_pressure.magnitude)\n",
    "    data[\"max_wind_speed\"].append(h.max_wind_speed.magnitude)\n",
    "    data[\"radius_of_max_wind\"].append(h.radius_of_max_wind.magnitude)\n",
    "    data[\"radius_of_closest_isobar\"].append(h.radius_of_closest_isobar.magnitude)\n",
    "\n",
    "\n",
    "data = pd.DataFrame(data)\n",
    "\n",
    "fig = go.Figure()\n",
    "\n",
    "fig.add_trace(go.Scattergeo(\n",
    "    lat=data[\"lat\"],\n",
    "    lon=data[\"lon\"],\n",
    "    mode='markers',\n",
    "    marker=dict(\n",
    "        size=data[\"radius_of_closest_isobar\"]/5,\n",
    "        color=\"lightblue\",\n",
    "        opacity=0.4\n",
    "    ),\n",
    "    name='Radius of closest isobar'  # Name for the legend\n",
    "))\n",
    "fig.add_trace(go.Scattergeo(\n",
    "    lat=data[\"lat\"],\n",
    "    lon=data[\"lon\"],\n",
    "    mode='markers',\n",
    "    marker=dict(\n",
    "        size=data[\"radius_of_max_wind\"]/5,\n",
    "        color=data[\"max_wind_speed\"],\n",
    "        colorbar=dict(\n",
    "            title='Maximum win speed (knot)',\n",
    "            orientation='h', # Set orientation to horizontal\n",
    "            x=0.5,           # Center the color bar horizontally\n",
    "            y=-0.25 \n",
    "            ), # Add color bar title\n",
    "        colorscale='Plasma',\n",
    "        opacity=0.4\n",
    "    ),\n",
    "    name='Radius of max wind'  # Name for the legend\n",
    "))\n",
    "fig.show()"
   ]
  },
  {
   "cell_type": "code",
   "execution_count": null,
   "metadata": {},
   "outputs": [],
   "source": []
  }
 ],
 "metadata": {
  "kernelspec": {
   "display_name": "erad",
   "language": "python",
   "name": "python3"
  },
  "language_info": {
   "codemirror_mode": {
    "name": "ipython",
    "version": 3
   },
   "file_extension": ".py",
   "mimetype": "text/x-python",
   "name": "python",
   "nbconvert_exporter": "python",
   "pygments_lexer": "ipython3",
   "version": "3.12.0"
  },
  "widgets": {
   "application/vnd.jupyter.widget-state+json": {
    "state": {},
    "version_major": 2,
    "version_minor": 0
   }
  }
 },
 "nbformat": 4,
 "nbformat_minor": 4
}
