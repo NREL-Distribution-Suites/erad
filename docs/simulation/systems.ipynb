{
 "cells": [
  {
   "cell_type": "markdown",
   "metadata": {},
   "source": [
    "# ERAD Systems \n",
    "\n",
    "ERAD provides interfacess for two types of system, `HazardSystem` and `AssetSystem` respectively. \n",
    "\n",
    "## HazardSystem\n",
    "\n",
    "`HazardSystem` is a container object for hazard models. Hazards (e.g. FireModel, WindModel) can be added to `HazardSystem` the add_component / add_components methods. Addition of multiple hazards is supported.\n",
    "\n",
    "```{note}\n",
    "ERAD is a multi-hazard simulatin tool. It is capable of modeling multiple hazards that mey be experienced in a contingency event e.g storm surge and high winds in a hurricane event.\n",
    "```\n"
   ]
  },
  {
   "cell_type": "code",
   "execution_count": 1,
   "metadata": {},
   "outputs": [
    {
     "name": "stderr",
     "output_type": "stream",
     "text": [
      "/opt/homebrew/Caskroom/miniconda/base/envs/erad/lib/python3.12/site-packages/pydantic/_internal/_generate_schema.py:502: UserWarning: Ellipsis is not a Python type (it may be an instance of an object), Pydantic will allow any object with no validation since we cannot even enforce that the input is an instance of the given type. To get rid of this error wrap the type with `pydantic.SkipValidation`.\n",
      "  warn(\n"
     ]
    },
    {
     "data": {
      "text/html": [
       "<pre style=\"white-space:pre;overflow-x:auto;line-height:normal;font-family:Menlo,'DejaVu Sans Mono',consolas,'Courier New',monospace\"><span style=\"font-weight: bold\">System                          </span>\n",
       "┏━━━━━━━━━━━━━━━━━━━━━━┳━━━━━━━┓\n",
       "┃<span style=\"font-weight: bold\"> Property             </span>┃<span style=\"font-weight: bold\"> Value </span>┃\n",
       "┡━━━━━━━━━━━━━━━━━━━━━━╇━━━━━━━┩\n",
       "│ System name          │       │\n",
       "│ Data format version  │       │\n",
       "│ Components attached  │   141 │\n",
       "│ Time Series attached │     0 │\n",
       "│ Description          │       │\n",
       "└──────────────────────┴───────┘\n",
       "</pre>\n"
      ],
      "text/plain": [
       "\u001b[1mSystem                          \u001b[0m\n",
       "┏━━━━━━━━━━━━━━━━━━━━━━┳━━━━━━━┓\n",
       "┃\u001b[1m \u001b[0m\u001b[1mProperty            \u001b[0m\u001b[1m \u001b[0m┃\u001b[1m \u001b[0m\u001b[1mValue\u001b[0m\u001b[1m \u001b[0m┃\n",
       "┡━━━━━━━━━━━━━━━━━━━━━━╇━━━━━━━┩\n",
       "│ System name          │       │\n",
       "│ Data format version  │       │\n",
       "│ Components attached  │   141 │\n",
       "│ Time Series attached │     0 │\n",
       "│ Description          │       │\n",
       "└──────────────────────┴───────┘\n"
      ]
     },
     "metadata": {},
     "output_type": "display_data"
    },
    {
     "data": {
      "text/html": [
       "<pre style=\"white-space:pre;overflow-x:auto;line-height:normal;font-family:Menlo,'DejaVu Sans Mono',consolas,'Courier New',monospace\"><span style=\"font-weight: bold\">Component Information           </span>\n",
       "┏━━━━━━━━━━━━━━━━━━━━━━┳━━━━━━━┓\n",
       "┃<span style=\"font-weight: bold\"> Type                 </span>┃<span style=\"font-weight: bold\"> Count </span>┃\n",
       "┡━━━━━━━━━━━━━━━━━━━━━━╇━━━━━━━┩\n",
       "│ WindModel            │   141 │\n",
       "└──────────────────────┴───────┘\n",
       "</pre>\n"
      ],
      "text/plain": [
       "\u001b[1mComponent Information           \u001b[0m\n",
       "┏━━━━━━━━━━━━━━━━━━━━━━┳━━━━━━━┓\n",
       "┃\u001b[1m \u001b[0m\u001b[1mType                \u001b[0m\u001b[1m \u001b[0m┃\u001b[1m \u001b[0m\u001b[1mCount\u001b[0m\u001b[1m \u001b[0m┃\n",
       "┡━━━━━━━━━━━━━━━━━━━━━━╇━━━━━━━┩\n",
       "│ WindModel            │   141 │\n",
       "└──────────────────────┴───────┘\n"
      ]
     },
     "metadata": {},
     "output_type": "display_data"
    }
   ],
   "source": [
    "from erad.systems import HazardSystem\n",
    "from erad.models.hazard import WindModel\n",
    "\n",
    "wind_model = WindModel.from_hurricane_sid(\"2017228N14314\")\n",
    "hazard_system = HazardSystem(auto_add_composed_components=True)\n",
    "hazard_system.add_components(*wind_model)\n",
    "hazard_system.info()"
   ]
  },
  {
   "cell_type": "markdown",
   "metadata": {},
   "source": [
    "## AssetSystem\n",
    "\n",
    "`AssetSystem` is a container object for all assets in an affected area. Silimar to the HazardSystem, sssets can be added to `AssetSystem` the add_component / add_components methods. \n",
    "\n",
    "\n",
    "```{note}\n",
    "Hazard models can only be added to `HazardSystem` and can not be added to `AssetSystem`\n",
    "```"
   ]
  },
  {
   "cell_type": "code",
   "execution_count": 2,
   "metadata": {},
   "outputs": [
    {
     "data": {
      "text/html": [
       "<pre style=\"white-space:pre;overflow-x:auto;line-height:normal;font-family:Menlo,'DejaVu Sans Mono',consolas,'Courier New',monospace\"><span style=\"font-weight: bold\">System                          </span>\n",
       "┏━━━━━━━━━━━━━━━━━━━━━━┳━━━━━━━┓\n",
       "┃<span style=\"font-weight: bold\"> Property             </span>┃<span style=\"font-weight: bold\"> Value </span>┃\n",
       "┡━━━━━━━━━━━━━━━━━━━━━━╇━━━━━━━┩\n",
       "│ System name          │       │\n",
       "│ Data format version  │       │\n",
       "│ Components attached  │     8 │\n",
       "│ Time Series attached │     0 │\n",
       "│ Description          │       │\n",
       "└──────────────────────┴───────┘\n",
       "</pre>\n"
      ],
      "text/plain": [
       "\u001b[1mSystem                          \u001b[0m\n",
       "┏━━━━━━━━━━━━━━━━━━━━━━┳━━━━━━━┓\n",
       "┃\u001b[1m \u001b[0m\u001b[1mProperty            \u001b[0m\u001b[1m \u001b[0m┃\u001b[1m \u001b[0m\u001b[1mValue\u001b[0m\u001b[1m \u001b[0m┃\n",
       "┡━━━━━━━━━━━━━━━━━━━━━━╇━━━━━━━┩\n",
       "│ System name          │       │\n",
       "│ Data format version  │       │\n",
       "│ Components attached  │     8 │\n",
       "│ Time Series attached │     0 │\n",
       "│ Description          │       │\n",
       "└──────────────────────┴───────┘\n"
      ]
     },
     "metadata": {},
     "output_type": "display_data"
    },
    {
     "data": {
      "text/html": [
       "<pre style=\"white-space:pre;overflow-x:auto;line-height:normal;font-family:Menlo,'DejaVu Sans Mono',consolas,'Courier New',monospace\"><span style=\"font-weight: bold\">Component Information              </span>\n",
       "┏━━━━━━━━━━━━━━━━━━━━━━━━━┳━━━━━━━┓\n",
       "┃<span style=\"font-weight: bold\"> Type                    </span>┃<span style=\"font-weight: bold\"> Count </span>┃\n",
       "┡━━━━━━━━━━━━━━━━━━━━━━━━━╇━━━━━━━┩\n",
       "│ AccelerationProbability │     1 │\n",
       "│ Asset                   │     1 │\n",
       "│ AssetState              │     1 │\n",
       "│ DistanceProbability     │     2 │\n",
       "│ SpeedProbability        │     3 │\n",
       "└─────────────────────────┴───────┘\n",
       "</pre>\n"
      ],
      "text/plain": [
       "\u001b[1mComponent Information              \u001b[0m\n",
       "┏━━━━━━━━━━━━━━━━━━━━━━━━━┳━━━━━━━┓\n",
       "┃\u001b[1m \u001b[0m\u001b[1mType                   \u001b[0m\u001b[1m \u001b[0m┃\u001b[1m \u001b[0m\u001b[1mCount\u001b[0m\u001b[1m \u001b[0m┃\n",
       "┡━━━━━━━━━━━━━━━━━━━━━━━━━╇━━━━━━━┩\n",
       "│ AccelerationProbability │     1 │\n",
       "│ Asset                   │     1 │\n",
       "│ AssetState              │     1 │\n",
       "│ DistanceProbability     │     2 │\n",
       "│ SpeedProbability        │     3 │\n",
       "└─────────────────────────┴───────┘\n"
      ]
     },
     "metadata": {},
     "output_type": "display_data"
    }
   ],
   "source": [
    "from erad.systems import AssetSystem\n",
    "from erad.models.asset import Asset\n",
    "\n",
    "asset_system = AssetSystem(auto_add_composed_components=True)\n",
    "\n",
    "asset = Asset.example()\n",
    "asset_system.add_component(asset)\n",
    "asset_system.info()"
   ]
  }
 ],
 "metadata": {
  "kernelspec": {
   "display_name": "erad",
   "language": "python",
   "name": "python3"
  },
  "language_info": {
   "codemirror_mode": {
    "name": "ipython",
    "version": 3
   },
   "file_extension": ".py",
   "mimetype": "text/x-python",
   "name": "python",
   "nbconvert_exporter": "python",
   "pygments_lexer": "ipython3",
   "version": "3.12.0"
  },
  "widgets": {
   "application/vnd.jupyter.widget-state+json": {
    "state": {},
    "version_major": 2,
    "version_minor": 0
   }
  }
 },
 "nbformat": 4,
 "nbformat_minor": 4
}
